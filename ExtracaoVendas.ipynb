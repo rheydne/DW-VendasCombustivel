{
 "cells": [
  {
   "cell_type": "code",
   "execution_count": 60,
   "metadata": {},
   "outputs": [],
   "source": [
    "import pandas as pd\n",
    "import pyodbc\n",
    "import os\n",
    "from unidecode import unidecode\n",
    "from sqlalchemy import create_engine"
   ]
  },
  {
   "cell_type": "code",
   "execution_count": 61,
   "metadata": {},
   "outputs": [],
   "source": [
    "# Conexão com banco de dados\n",
    "conexao = pyodbc.connect(\"DRIVER={SQL Server};SERVER=DESKTOP-51H10JN;DATABASE=DW-VendaCombustivel;Trusted_Connection=yes\")"
   ]
  },
  {
   "cell_type": "code",
   "execution_count": 62,
   "metadata": {},
   "outputs": [],
   "source": [
    "# Função para ler cada csv e inserir ele em um DF\n",
    "def LerArquivosVendas(caminho, nome_arquivo):\n",
    "\n",
    "    arquivo = f'{caminho}{nome_arquivo}'\n",
    "\n",
    "    colunas = [\n",
    "        'COMBUSTIVEL',\n",
    "        'ANO',\n",
    "        'REGIAO',\n",
    "        'ESTADO',\n",
    "        'UNIDADE',\n",
    "        'JANEIRO',\n",
    "        'FEVEREIRO',\n",
    "        'MARCO',\n",
    "        'ABRIL',\n",
    "        'MAIO',\n",
    "        'JUNHO',\n",
    "        'JULHO',\n",
    "        'AGOSTO',\n",
    "        'SETEMBRO',\n",
    "        'OUTUBRO',\n",
    "        'NOVEMBRO',\n",
    "        'DEZEMBRO',\n",
    "        'TOTAL'\n",
    "    ]\n",
    "\n",
    "    df = pd.read_csv(arquivo, sep=';', names=colunas, header=None, skiprows=1, decimal=',', index_col=False)\n",
    "\n",
    "    df['CAMINHO'] = caminho\n",
    "    df['ARQUIVO'] = nome_arquivo\n",
    "\n",
    "    return df\n"
   ]
  },
  {
   "cell_type": "code",
   "execution_count": 63,
   "metadata": {},
   "outputs": [],
   "source": [
    "# Função para concatenar todos os arquivos presentes no caminho especificado\n",
    "def ConcatenaArquivosVendas(caminho):\n",
    "\n",
    "    # Cria um array contendo o nome de todos os arquivos\n",
    "    nomes_arquivos = os.listdir(caminho)\n",
    "    \n",
    "    # Passa por cada arquivo, chama a função que faz a leitura deles, le e concatena\n",
    "    for i, y in enumerate(nomes_arquivos):\n",
    "\n",
    "        df = LerArquivosVendas(caminho, y)\n",
    "        if i == 0:\n",
    "            df_final = df\n",
    "        else:\n",
    "            df_final = pd.concat([df_final, df])\n",
    "    \n",
    "    return df_final"
   ]
  },
  {
   "cell_type": "code",
   "execution_count": 64,
   "metadata": {},
   "outputs": [
    {
     "name": "stderr",
     "output_type": "stream",
     "text": [
      "C:\\Users\\Rhey\\AppData\\Local\\Temp\\ipykernel_12180\\2048166930.py:27: ParserWarning: Length of header or names does not match length of data. This leads to a loss of data with index_col=False.\n",
      "  df = pd.read_csv(arquivo, sep=';', names=colunas, header=None, skiprows=1, decimal=',', index_col=False)\n",
      "C:\\Users\\Rhey\\AppData\\Local\\Temp\\ipykernel_12180\\2048166930.py:27: ParserWarning: Length of header or names does not match length of data. This leads to a loss of data with index_col=False.\n",
      "  df = pd.read_csv(arquivo, sep=';', names=colunas, header=None, skiprows=1, decimal=',', index_col=False)\n"
     ]
    }
   ],
   "source": [
    "caminho = 'C:\\\\Users\\\\Rhey\\\\Downloads\\\\DW-VendasCombustivel_v2\\\\Arquivos\\\\Vendas\\\\'\n",
    "\n",
    "df_final = ConcatenaArquivosVendas(caminho)"
   ]
  },
  {
   "cell_type": "code",
   "execution_count": 65,
   "metadata": {},
   "outputs": [
    {
     "data": {
      "text/plain": [
       "Index(['COMBUSTIVEL', 'ANO', 'REGIAO', 'ESTADO', 'UNIDADE', 'JANEIRO',\n",
       "       'FEVEREIRO', 'MARCO', 'ABRIL', 'MAIO', 'JUNHO', 'JULHO', 'AGOSTO',\n",
       "       'SETEMBRO', 'OUTUBRO', 'NOVEMBRO', 'DEZEMBRO', 'TOTAL', 'CAMINHO',\n",
       "       'ARQUIVO'],\n",
       "      dtype='object')"
      ]
     },
     "execution_count": 65,
     "metadata": {},
     "output_type": "execute_result"
    }
   ],
   "source": [
    "# Para avaliar todas as colunas disponíveis\n",
    "df_final.columns"
   ]
  },
  {
   "cell_type": "code",
   "execution_count": 66,
   "metadata": {},
   "outputs": [],
   "source": [
    "# retira espaços, acentuação e padroniza tudo como maiusculo\n",
    "df_final['COMBUSTIVEL'] = df_final['COMBUSTIVEL'].astype(str).str.strip().str.upper().apply(unidecode)\n",
    "df_final['REGIAO'] = df_final['REGIAO'].astype(str).str.strip().str.upper().apply(unidecode)\n",
    "df_final['ESTADO'] = df_final['ESTADO'].astype(str).str.strip().str.upper().apply(unidecode)\n",
    "df_final['UNIDADE'] = df_final['UNIDADE'].astype(str).str.strip().str.upper().apply(unidecode)\n",
    "\n",
    "# Concatenar as colunas 'ESTADO' e 'REGIAO' em uma nova coluna 'localidade'\n",
    "df_final['LOCALIDADE'] = df_final.apply(lambda row: f\"{row['REGIAO']} - {row['ESTADO']}\", axis=1)"
   ]
  },
  {
   "cell_type": "code",
   "execution_count": 67,
   "metadata": {},
   "outputs": [
    {
     "name": "stdout",
     "output_type": "stream",
     "text": [
      "['ETANOL HIDRATADO' 'GASOLINA C' 'OLEO DIESEL']\n",
      "['RONDONIA' 'ACRE' 'AMAZONAS' 'RORAIMA' 'PARA' 'AMAPA' 'TOCANTINS'\n",
      " 'MARANHAO' 'PIAUI' 'CEARA' 'RIO GRANDE DO NORTE' 'PARAIBA' 'PERNAMBUCO'\n",
      " 'ALAGOAS' 'SERGIPE' 'BAHIA' 'MINAS GERAIS' 'ESPIRITO SANTO'\n",
      " 'RIO DE JANEIRO' 'SAO PAULO' 'PARANA' 'SANTA CATARINA'\n",
      " 'RIO GRANDE DO SUL' 'MATO GROSSO DO SUL' 'MATO GROSSO' 'GOIAS'\n",
      " 'DISTRITO FEDERAL']\n"
     ]
    }
   ],
   "source": [
    "print(df_final['COMBUSTIVEL'].unique())\n",
    "print(df_final['ESTADO'].unique())"
   ]
  },
  {
   "cell_type": "code",
   "execution_count": 68,
   "metadata": {},
   "outputs": [],
   "source": [
    "# Transformações coluna Combustivel e criação da tabela dimensao\n",
    "\n",
    "df_combustivel = pd.DataFrame({\n",
    "    'combustivel': df_final['COMBUSTIVEL']\n",
    "    })\n",
    "    \n",
    "# retira duplicatas\n",
    "df_combustivel = df_combustivel.drop_duplicates()\n",
    "# reseta o index (para o df esquecer do index do arquivo original)\n",
    "df_combustivel = df_combustivel.reset_index(drop=True)\n",
    "\n",
    "df_combustivel['id'] = df_combustivel.reset_index().index\n",
    "\n",
    "# Criar um dicionário de mapeamento entre os combustiveis e seus índices\n",
    "mapeamento_combustivel = df_combustivel['combustivel'].reset_index().set_index('combustivel')['index'].to_dict()\n",
    "# Aplicar o mapeamento à coluna 'ANO' em df_final\n",
    "df_final['COMBUSTIVEL'] = df_final['COMBUSTIVEL'].map(mapeamento_combustivel)"
   ]
  },
  {
   "cell_type": "code",
   "execution_count": 69,
   "metadata": {},
   "outputs": [],
   "source": [
    "# Transformações coluna Ano e criação da tabela dimensao\n",
    "df_tempo = pd.DataFrame({\n",
    "    'ano': df_final['ANO']\n",
    "    })\n",
    "\n",
    "# retira duplicatas\n",
    "df_tempo = df_tempo.drop_duplicates()\n",
    "\n",
    "# reseta o index (para o df esquecer do index do arquivo original)\n",
    "df_tempo = df_tempo.reset_index(drop=True)\n",
    "\n",
    "df_tempo['id'] = df_tempo.reset_index().index\n",
    "\n",
    "# Criar um dicionário de mapeamento entre os anos e seus índices\n",
    "mapeamento_anos = df_tempo['ano'].reset_index().set_index('ano')['index'].to_dict()\n",
    "# Aplicar o mapeamento à coluna 'ANO' em df_final\n",
    "df_final['ANO'] = df_final['ANO'].map(mapeamento_anos)"
   ]
  },
  {
   "cell_type": "code",
   "execution_count": 70,
   "metadata": {},
   "outputs": [],
   "source": [
    "# Transformações coluna Estado e Região e criação da tabela dimensao\n",
    "df_localidade = pd.DataFrame({\n",
    "    'regiao': df_final['REGIAO'],\n",
    "    'estado': df_final['ESTADO']\n",
    "    })\n",
    "\n",
    "# retira duplicatas\n",
    "df_localidade = df_localidade.drop_duplicates()\n",
    "\n",
    "# reseta o index (para o df esquecer do index do arquivo original)\n",
    "df_localidade = df_localidade.reset_index(drop=True)\n",
    "\n",
    "df_localidade['localidade'] = df_localidade.apply(lambda row: f\"{row['regiao']} - {row['estado']}\", axis=1)\n",
    "\n",
    "df_localidade['id'] = df_localidade.reset_index().index\n",
    "\n",
    "# Criar um dicionário de mapeamento entre os combustiveis e seus índices\n",
    "mapeamento_localidade = df_localidade['localidade'].reset_index().set_index('localidade')['index'].to_dict()\n",
    "# Aplicar o mapeamento à coluna 'ANO' em df_final\n",
    "df_final['LOCALIDADE'] = df_final['LOCALIDADE'].map(mapeamento_localidade)"
   ]
  },
  {
   "cell_type": "code",
   "execution_count": 71,
   "metadata": {},
   "outputs": [],
   "source": [
    "# Excluir as colunas 'ESTADO' e 'REGIAO'\n",
    "df_final.drop(['ESTADO', 'REGIAO', 'UNIDADE'], axis=1, inplace=True)"
   ]
  },
  {
   "cell_type": "code",
   "execution_count": 72,
   "metadata": {},
   "outputs": [],
   "source": [
    "# Convertendo de m3 para litros\n",
    "\n",
    "df_final['JANEIRO'] = df_final['JANEIRO'] * 1000\n",
    "df_final['FEVEREIRO'] = df_final['FEVEREIRO'] * 1000\n",
    "df_final['MARCO'] = df_final['MARCO'] * 1000\n",
    "df_final['ABRIL'] = df_final['ABRIL'] * 1000\n",
    "df_final['MAIO'] = df_final['MAIO'] * 1000\n",
    "df_final['JUNHO'] = df_final['JUNHO'] * 1000\n",
    "df_final['JULHO'] = df_final['JULHO'] * 1000\n",
    "df_final['AGOSTO'] = df_final['AGOSTO'] * 1000\n",
    "df_final['SETEMBRO'] = df_final['SETEMBRO'] * 1000\n",
    "df_final['OUTUBRO'] = df_final['OUTUBRO'] * 1000\n",
    "df_final['NOVEMBRO'] = df_final['NOVEMBRO'] * 1000\n",
    "df_final['DEZEMBRO'] = df_final['DEZEMBRO'] * 1000\n",
    "df_final['TOTAL'] = df_final['TOTAL'] * 1000"
   ]
  },
  {
   "cell_type": "code",
   "execution_count": 73,
   "metadata": {},
   "outputs": [
    {
     "data": {
      "text/plain": [
       "-1"
      ]
     },
     "execution_count": 73,
     "metadata": {},
     "output_type": "execute_result"
    }
   ],
   "source": [
    "#Transfere todos os dataframes para uma tabela em SQL Server\n",
    "connection_string = f\"mssql+pyodbc://DESKTOP-51H10JN/DW-VendaCombustivel?driver=ODBC Driver 17 for SQL Server\"\n",
    "engine = create_engine(connection_string, fast_executemany=True)\n",
    "\n",
    "df_combustivel.to_sql(name='DIM_COMBUSTIVEL', con=engine, index=False, if_exists='replace')\n",
    "df_localidade.to_sql(name='DIM_LOCALIDADE', con=engine, index=False, if_exists='replace')\n",
    "df_tempo.to_sql(name='DIM_TEMPO', con=engine, index=False, if_exists='replace')\n",
    "df_final.to_sql(name='FATO_VENDAS_COMBUSTIVEL', con=engine, index=True, if_exists='replace')\n",
    "\n"
   ]
  },
  {
   "cell_type": "code",
   "execution_count": 74,
   "metadata": {
    "vscode": {
     "languageId": "sql"
    }
   },
   "outputs": [
    {
     "ename": "SyntaxError",
     "evalue": "invalid syntax (48908869.py, line 1)",
     "output_type": "error",
     "traceback": [
      "\u001b[1;36m  Cell \u001b[1;32mIn[74], line 1\u001b[1;36m\u001b[0m\n\u001b[1;33m    -- Comandos SQL\u001b[0m\n\u001b[1;37m                ^\u001b[0m\n\u001b[1;31mSyntaxError\u001b[0m\u001b[1;31m:\u001b[0m invalid syntax\n"
     ]
    }
   ],
   "source": [
    "-- Comandos SQL\n",
    "\n",
    "select *\n",
    "from DIM_COMBUSTIVEL\n",
    "\n",
    "SELECT *\n",
    "FROM DIM_LOCALIDADE\n",
    "\n",
    "SELECT *\n",
    "FROM DIM_TEMPO\n",
    "\n",
    "SELECT *\n",
    "FROM FATO_VENDAS_COMBUSTIVEL\n",
    "\n",
    "UPDATE DIM_COMBUSTIVEL\n",
    "SET combustivel = 'GASOLINA COMUM'\n",
    "where combustivel = 'GASOLINA C'"
   ]
  },
  {
   "cell_type": "code",
   "execution_count": null,
   "metadata": {
    "vscode": {
     "languageId": "sql"
    }
   },
   "outputs": [
    {
     "data": {
      "text/html": [
       "<div>\n",
       "<style scoped>\n",
       "    .dataframe tbody tr th:only-of-type {\n",
       "        vertical-align: middle;\n",
       "    }\n",
       "\n",
       "    .dataframe tbody tr th {\n",
       "        vertical-align: top;\n",
       "    }\n",
       "\n",
       "    .dataframe thead th {\n",
       "        text-align: right;\n",
       "    }\n",
       "</style>\n",
       "<table border=\"1\" class=\"dataframe\">\n",
       "  <thead>\n",
       "    <tr style=\"text-align: right;\">\n",
       "      <th></th>\n",
       "      <th>combustivel</th>\n",
       "    </tr>\n",
       "  </thead>\n",
       "  <tbody>\n",
       "    <tr>\n",
       "      <th>0</th>\n",
       "      <td>ETANOL HIDRATADO</td>\n",
       "    </tr>\n",
       "    <tr>\n",
       "      <th>1</th>\n",
       "      <td>GASOLINA DE AVIACAO</td>\n",
       "    </tr>\n",
       "    <tr>\n",
       "      <th>2</th>\n",
       "      <td>GASOLINA C</td>\n",
       "    </tr>\n",
       "    <tr>\n",
       "      <th>3</th>\n",
       "      <td>OLEO DIESEL</td>\n",
       "    </tr>\n",
       "    <tr>\n",
       "      <th>4</th>\n",
       "      <td>QUEROSENE DE AVIACAO</td>\n",
       "    </tr>\n",
       "  </tbody>\n",
       "</table>\n",
       "</div>"
      ],
      "text/plain": [
       "            combustivel\n",
       "0      ETANOL HIDRATADO\n",
       "1   GASOLINA DE AVIACAO\n",
       "2            GASOLINA C\n",
       "3           OLEO DIESEL\n",
       "4  QUEROSENE DE AVIACAO"
      ]
     },
     "execution_count": 91,
     "metadata": {},
     "output_type": "execute_result"
    }
   ],
   "source": [
    "df_combustivel"
   ]
  }
 ],
 "metadata": {
  "kernelspec": {
   "display_name": "Python 3",
   "language": "python",
   "name": "python3"
  },
  "language_info": {
   "codemirror_mode": {
    "name": "ipython",
    "version": 3
   },
   "file_extension": ".py",
   "mimetype": "text/x-python",
   "name": "python",
   "nbconvert_exporter": "python",
   "pygments_lexer": "ipython3",
   "version": "3.12.0"
  }
 },
 "nbformat": 4,
 "nbformat_minor": 2
}
