{
 "cells": [
  {
   "cell_type": "code",
   "execution_count": 1,
   "metadata": {},
   "outputs": [],
   "source": [
    "import pandas as pd\n",
    "import pyodbc\n",
    "import os\n",
    "from unidecode import unidecode\n",
    "from sqlalchemy import create_engine\n",
    "import re"
   ]
  },
  {
   "cell_type": "code",
   "execution_count": 2,
   "metadata": {},
   "outputs": [],
   "source": [
    "# Conexão com banco de dados\n",
    "sqlgdncli = pyodbc.connect(\"DRIVER={SQL Server};SERVER=DESKTOP-51H10JN;DATABASE=DW-VendaCombustivel;Trusted_Connection=yes\")"
   ]
  },
  {
   "cell_type": "code",
   "execution_count": 3,
   "metadata": {},
   "outputs": [],
   "source": [
    "def LerArquivoCotacao(caminho, nome_arquivo):\n",
    "\n",
    "    arquivo = f'{caminho}{nome_arquivo}'\n",
    "    colunas = [\n",
    "        'regiao',\n",
    "        'localidade',\n",
    "        'municipio',\n",
    "        'revenda',\n",
    "        'cnpj',\n",
    "        'rodovia',\n",
    "        'numero',\n",
    "        'complemento',\n",
    "        'bairro',\n",
    "        'cep',\n",
    "        'combustivel',\n",
    "        'data_coleta',\n",
    "        'valor_venda',\n",
    "        'valor_compra',\n",
    "        'unidade',\n",
    "        'bandeira'\n",
    "    ]\n",
    "\n",
    "    df = pd.read_csv(arquivo, sep=';', names=colunas, header=None, skiprows=1, decimal=',', index_col=False, encoding='latin-1')\n",
    "\n",
    "    df['caminho'] = caminho\n",
    "    df['arquivo'] = nome_arquivo\n",
    "\n",
    "    padrao = re.compile(r\"\\D(\\d{4})-\\d{2}\\.csv\")\n",
    "    correspondencia = padrao.search(nome_arquivo)\n",
    "    df['ano'] = correspondencia.group(1)\n",
    "\n",
    "    print(nome_arquivo)\n",
    "\n",
    "    return df"
   ]
  },
  {
   "cell_type": "code",
   "execution_count": 4,
   "metadata": {},
   "outputs": [],
   "source": [
    "# Função para concatenar todos os arquivos presentes no caminho especificado\n",
    "def ConcatenaArquivosCotacao(caminho):\n",
    "\n",
    "    # Cria um array contendo o nome de todos os arquivos\n",
    "    nomes_arquivos = os.listdir(caminho)\n",
    "    \n",
    "    # Passa por cada arquivo, chama a função que faz a leitura deles, le e concatena\n",
    "    for i, y in enumerate(nomes_arquivos):\n",
    "\n",
    "        df = LerArquivoCotacao(caminho, y)\n",
    "        if i == 0:\n",
    "            df_final = df\n",
    "        else:\n",
    "            df_final = pd.concat([df_final, df])\n",
    "    \n",
    "    return df_final"
   ]
  },
  {
   "cell_type": "code",
   "execution_count": 6,
   "metadata": {},
   "outputs": [
    {
     "name": "stdout",
     "output_type": "stream",
     "text": [
      "ca-2004-02.csv\n",
      "ca-2005-02.csv\n",
      "ca-2006-02.csv\n",
      "ca-2007-02.csv\n",
      "ca-2008-02.csv\n",
      "ca-2009-02.csv\n",
      "ca-2010-02.csv\n",
      "ca-2011-02.csv\n",
      "ca-2012-02.csv\n",
      "ca-2013-02.csv\n",
      "ca-2014-02.csv\n",
      "ca-2015-02.csv\n",
      "ca-2016-02.csv\n",
      "ca-2017-02.csv\n",
      "ca-2018-02.csv\n",
      "ca-2019-02.csv\n",
      "ca-2020-02.csv\n",
      "ca-2021-02.csv\n"
     ]
    }
   ],
   "source": [
    "caminho = 'C:\\\\Users\\\\Rhey\\\\Downloads\\\\DW-VendasCombustivel\\\\Arquivos\\\\Cotacao\\\\'\n",
    "\n",
    "df_final = ConcatenaArquivosCotacao(caminho)"
   ]
  },
  {
   "cell_type": "code",
   "execution_count": 7,
   "metadata": {},
   "outputs": [],
   "source": [
    "colunas_drop = ['municipio', 'revenda', 'cnpj', 'rodovia', 'numero', 'complemento', 'bairro', 'cep', 'data_coleta', 'bandeira']\n",
    "df_final = df_final.drop(columns=colunas_drop)"
   ]
  },
  {
   "cell_type": "code",
   "execution_count": 8,
   "metadata": {},
   "outputs": [],
   "source": [
    "# Tentar converter para numérico, tratando erros com 'coerce'\n",
    "df_final['valor_venda'] = pd.to_numeric(df_final['valor_venda'], errors='coerce')\n",
    "df_final['valor_compra'] = pd.to_numeric(df_final['valor_compra'], errors='coerce')\n",
    "\n",
    "# Substituir NaN por um valor padrão (por exemplo, 0)\n",
    "df_final['valor_venda'] = df_final['valor_venda'].fillna(0)\n",
    "df_final['valor_compra'] = df_final['valor_compra'].fillna(0)"
   ]
  },
  {
   "cell_type": "code",
   "execution_count": 9,
   "metadata": {},
   "outputs": [
    {
     "data": {
      "text/html": [
       "<div>\n",
       "<style scoped>\n",
       "    .dataframe tbody tr th:only-of-type {\n",
       "        vertical-align: middle;\n",
       "    }\n",
       "\n",
       "    .dataframe tbody tr th {\n",
       "        vertical-align: top;\n",
       "    }\n",
       "\n",
       "    .dataframe thead th {\n",
       "        text-align: right;\n",
       "    }\n",
       "</style>\n",
       "<table border=\"1\" class=\"dataframe\">\n",
       "  <thead>\n",
       "    <tr style=\"text-align: right;\">\n",
       "      <th></th>\n",
       "      <th>combustivel</th>\n",
       "      <th>localidade</th>\n",
       "      <th>ano</th>\n",
       "      <th>valor_venda</th>\n",
       "      <th>valor_compra</th>\n",
       "    </tr>\n",
       "  </thead>\n",
       "  <tbody>\n",
       "    <tr>\n",
       "      <th>0</th>\n",
       "      <td>DIESEL</td>\n",
       "      <td>AC</td>\n",
       "      <td>2004</td>\n",
       "      <td>1.861481</td>\n",
       "      <td>1.156749</td>\n",
       "    </tr>\n",
       "    <tr>\n",
       "      <th>1</th>\n",
       "      <td>DIESEL</td>\n",
       "      <td>AC</td>\n",
       "      <td>2005</td>\n",
       "      <td>2.188171</td>\n",
       "      <td>1.577292</td>\n",
       "    </tr>\n",
       "    <tr>\n",
       "      <th>2</th>\n",
       "      <td>DIESEL</td>\n",
       "      <td>AC</td>\n",
       "      <td>2006</td>\n",
       "      <td>2.318354</td>\n",
       "      <td>1.612108</td>\n",
       "    </tr>\n",
       "    <tr>\n",
       "      <th>3</th>\n",
       "      <td>DIESEL</td>\n",
       "      <td>AC</td>\n",
       "      <td>2007</td>\n",
       "      <td>2.325797</td>\n",
       "      <td>1.436921</td>\n",
       "    </tr>\n",
       "    <tr>\n",
       "      <th>4</th>\n",
       "      <td>DIESEL</td>\n",
       "      <td>AC</td>\n",
       "      <td>2008</td>\n",
       "      <td>2.525849</td>\n",
       "      <td>1.616584</td>\n",
       "    </tr>\n",
       "    <tr>\n",
       "      <th>...</th>\n",
       "      <td>...</td>\n",
       "      <td>...</td>\n",
       "      <td>...</td>\n",
       "      <td>...</td>\n",
       "      <td>...</td>\n",
       "    </tr>\n",
       "    <tr>\n",
       "      <th>2132</th>\n",
       "      <td>GNV</td>\n",
       "      <td>SP</td>\n",
       "      <td>2020</td>\n",
       "      <td>2.892934</td>\n",
       "      <td>0.026206</td>\n",
       "    </tr>\n",
       "    <tr>\n",
       "      <th>2133</th>\n",
       "      <td>GNV</td>\n",
       "      <td>SP</td>\n",
       "      <td>2021</td>\n",
       "      <td>3.848536</td>\n",
       "      <td>0.000000</td>\n",
       "    </tr>\n",
       "    <tr>\n",
       "      <th>2134</th>\n",
       "      <td>GNV</td>\n",
       "      <td>TO</td>\n",
       "      <td>2008</td>\n",
       "      <td>2.155000</td>\n",
       "      <td>0.927650</td>\n",
       "    </tr>\n",
       "    <tr>\n",
       "      <th>2135</th>\n",
       "      <td>GNV</td>\n",
       "      <td>TO</td>\n",
       "      <td>2016</td>\n",
       "      <td>3.049000</td>\n",
       "      <td>0.000000</td>\n",
       "    </tr>\n",
       "    <tr>\n",
       "      <th>2136</th>\n",
       "      <td>GNV</td>\n",
       "      <td>TO</td>\n",
       "      <td>2018</td>\n",
       "      <td>3.480000</td>\n",
       "      <td>0.000000</td>\n",
       "    </tr>\n",
       "  </tbody>\n",
       "</table>\n",
       "<p>2137 rows × 5 columns</p>\n",
       "</div>"
      ],
      "text/plain": [
       "     combustivel localidade   ano  valor_venda  valor_compra\n",
       "0         DIESEL         AC  2004     1.861481      1.156749\n",
       "1         DIESEL         AC  2005     2.188171      1.577292\n",
       "2         DIESEL         AC  2006     2.318354      1.612108\n",
       "3         DIESEL         AC  2007     2.325797      1.436921\n",
       "4         DIESEL         AC  2008     2.525849      1.616584\n",
       "...          ...        ...   ...          ...           ...\n",
       "2132         GNV         SP  2020     2.892934      0.026206\n",
       "2133         GNV         SP  2021     3.848536      0.000000\n",
       "2134         GNV         TO  2008     2.155000      0.927650\n",
       "2135         GNV         TO  2016     3.049000      0.000000\n",
       "2136         GNV         TO  2018     3.480000      0.000000\n",
       "\n",
       "[2137 rows x 5 columns]"
      ]
     },
     "execution_count": 9,
     "metadata": {},
     "output_type": "execute_result"
    }
   ],
   "source": [
    "# Calcular a média por PRODUTO, ESTADO e ANO\n",
    "media_por_grupo = df_final.groupby(['combustivel', 'localidade', 'ano'])[['valor_venda', 'valor_compra']].mean().reset_index()\n",
    "media_por_grupo"
   ]
  },
  {
   "cell_type": "code",
   "execution_count": 60,
   "metadata": {},
   "outputs": [
    {
     "name": "stdout",
     "output_type": "stream",
     "text": [
      "['AC' 'AL' 'AM' 'AP' 'BA' 'CE' 'DF' 'ES' 'GO' 'MA' 'MG' 'MS' 'MT' 'PA'\n",
      " 'PB' 'PE' 'PI' 'PR' 'RJ' 'RN' 'RO' 'RR' 'RS' 'SC' 'SE' 'SP' 'TO']\n",
      "['DIESEL' 'DIESEL S10' 'DIESEL S50' 'ETANOL' 'GASOLINA'\n",
      " 'GASOLINA ADITIVADA' 'GNV']\n",
      "[2.18817137 2.31835389 2.32579732 ... 2.155      3.049      3.48      ]\n",
      "[1.57729231 1.61210786 1.43692057 ... 0.2195762  0.02620633 0.92765   ]\n",
      "['2005' '2006' '2007' '2008' '2009' '2010' '2011' '2012' '2013' '2014'\n",
      " '2015' '2016' '2017' '2018' '2019' '2020' '2021']\n"
     ]
    }
   ],
   "source": [
    "print(media_por_grupo['localidade'].unique())\n",
    "print(media_por_grupo['combustivel'].unique())\n",
    "print(media_por_grupo['valor_venda'].unique())\n",
    "print(media_por_grupo['valor_compra'].unique())\n",
    "print(media_por_grupo['ano'].unique())"
   ]
  },
  {
   "cell_type": "code",
   "execution_count": 10,
   "metadata": {},
   "outputs": [
    {
     "data": {
      "text/plain": [
       "-1"
      ]
     },
     "execution_count": 10,
     "metadata": {},
     "output_type": "execute_result"
    }
   ],
   "source": [
    "#Transfere todos os dataframes para uma tabela em SQL Server\n",
    "connection_string = f\"mssql+pyodbc://DESKTOP-51H10JN/DW-VendaCombustivel?driver=ODBC Driver 17 for SQL Server\"\n",
    "engine = create_engine(connection_string, fast_executemany=True)\n",
    "\n",
    "media_por_grupo.to_sql(name='FATO_COTACAO', con=engine, index=False, if_exists='replace')"
   ]
  },
  {
   "cell_type": "code",
   "execution_count": 62,
   "metadata": {
    "vscode": {
     "languageId": "sql"
    }
   },
   "outputs": [
    {
     "ename": "SyntaxError",
     "evalue": "invalid syntax (2905641863.py, line 1)",
     "output_type": "error",
     "traceback": [
      "\u001b[1;36m  Cell \u001b[1;32mIn[62], line 1\u001b[1;36m\u001b[0m\n\u001b[1;33m    DELETE FROM FATO_COTACAO\u001b[0m\n\u001b[1;37m           ^\u001b[0m\n\u001b[1;31mSyntaxError\u001b[0m\u001b[1;31m:\u001b[0m invalid syntax\n"
     ]
    }
   ],
   "source": [
    "DELETE FROM FATO_COTACAO\n",
    "WHERE combustivel IN ('DIESEL S10','DIESEL S50','GASOLINA ADITIVADA','GNV')\n",
    "\n",
    "UPDATE FATO_COTACAO\n",
    "SET combustivel = 'ETANOL HIDRATADO'\n",
    "WHERE combustivel = 'ETANOL'\n",
    "\n",
    "UPDATE FATO_COTACAO\n",
    "SET combustivel = 'GASOLINA COMUM'\n",
    "WHERE combustivel = 'GASOLINA'\n",
    "\n",
    "UPDATE FATO_COTACAO\n",
    "SET combustivel = 'OLEO DIESEL'\n",
    "WHERE combustivel = 'DIESEL'\n",
    "\n",
    "UPDATE A\n",
    "SET combustivel = b.id\n",
    "FROM FATO_COTACAO A\n",
    "INNER JOIN DIM_COMBUSTIVEL B\n",
    "ON A.combustivel = B.combustivel\n",
    "\n",
    "UPDATE A\n",
    "SET localidade = b.id\n",
    "FROM FATO_COTACAO A\n",
    "INNER JOIN DIM_LOCALIDADE B\n",
    "ON A.localidade = B.UF\n",
    "\n",
    "UPDATE A\n",
    "SET ano = b.id\n",
    "FROM FATO_COTACAO A\n",
    "INNER JOIN DIM_TEMPO B\n",
    "ON A.ano = B.ano"
   ]
  },
  {
   "cell_type": "code",
   "execution_count": null,
   "metadata": {
    "vscode": {
     "languageId": "sql"
    }
   },
   "outputs": [],
   "source": []
  }
 ],
 "metadata": {
  "kernelspec": {
   "display_name": "Python 3",
   "language": "python",
   "name": "python3"
  },
  "language_info": {
   "codemirror_mode": {
    "name": "ipython",
    "version": 3
   },
   "file_extension": ".py",
   "mimetype": "text/x-python",
   "name": "python",
   "nbconvert_exporter": "python",
   "pygments_lexer": "ipython3",
   "version": "3.12.0"
  }
 },
 "nbformat": 4,
 "nbformat_minor": 2
}
